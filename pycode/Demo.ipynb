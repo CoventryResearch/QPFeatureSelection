{
 "cells": [
  {
   "cell_type": "code",
   "execution_count": 1,
   "metadata": {
    "collapsed": false
   },
   "outputs": [],
   "source": [
    "%matplotlib inline\n",
    "import numpy as np\n",
    "import matplotlib.pyplot as plt\n",
    "import sklearn.datasets as skldata\n",
    "import sklearn.feature_selection as sklfs\n",
    "import sklearn.linear_model as skllm\n",
    "import sklearn.metrics as sklmet\n",
    "import sklearn.model_selection as sklms\n",
    "import cvxpy as cvx\n",
    "# import data_generator as dg"
   ]
  },
  {
   "cell_type": "code",
   "execution_count": 185,
   "metadata": {
    "collapsed": false
   },
   "outputs": [],
   "source": [
    "class DataGenerator:\n",
    "    def __init__(self, n_samples=10, n_features=10, collinearity_coef=0, is_normalized=False, is_real=False, ):\n",
    "        self.n_features = n_features\n",
    "        self.n_samples = n_samples\n",
    "        self.collinearity_coef = collinearity_coef\n",
    "        self.is_normalized = is_normalized\n",
    "        self.is_real = is_real\n",
    "        \n",
    "    def __nullspace(self, A, atol=1e-13, rtol=0):\n",
    "        A = np.atleast_2d(A)\n",
    "        u, s, vh = np.linalg.svd(A)\n",
    "        tol = max(atol, rtol * s[0])\n",
    "        nnz = (s >= tol).sum()\n",
    "        ns = vh[nnz:].conj().T\n",
    "        return ns\n",
    "    \n",
    "    def generate(self, param):\n",
    "        if self.is_real:\n",
    "            pass\n",
    "        else:\n",
    "            X = np.zeros((self.n_samples, self.n_features))\n",
    "            if param[\"type\"] == \"rand\":\n",
    "                n_samples = self.n_samples\n",
    "                n_features = self.n_features\n",
    "                y = np.random.randint(1.5 * n_samples, size=(n_samples, ))\n",
    "                X[:, :n_features - 1] = np.random.rand(n_samples, n_features - 1)\n",
    "                X[:, n_features - 1] = y + 0.01 * np.random.randn(n_samples)\n",
    "                if self.is_normalized:\n",
    "                    y = y / np.linalg.norm(y)\n",
    "                    col_norm = np.sqrt(np.sum(X**2, axis=0))\n",
    "                    X = X / col_norm\n",
    "                return X, y\n",
    "            elif param[\"type\"] == \"inadeq\":\n",
    "                pass\n",
    "            elif param[\"type\"] == \"redund_correl\":\n",
    "                y = np.random.randint(1.5 * self.n_samples, size=(self.n_samples, ))\n",
    "                X_ort_y = self.__nullspace(y)\n",
    "                k = self.collinearity_coef\n",
    "                X = k * np.repeat(y.reshape(-1, 1), repeats=self.n_features, axis=1) + \\\n",
    "                    (1 - k) * X_ort_y[:, np.random.randint(X_ort_y.shape[1], size=(self.n_features,))]\n",
    "                if self.is_normalized:\n",
    "                    y = y / np.linalg.norm(y)\n",
    "                    col_norm = np.sqrt(np.sum(X**2, axis=0))\n",
    "                    X = X / col_norm\n",
    "                return X, y\n",
    "            elif param[\"type\"] == \"adeq_correl\":\n",
    "                n_ort_features = int(np.floor(param[\"ratio_ort_features\"] * self.n_features))\n",
    "                print \"Number of orthogonal features = {0}\".format(n_ort_features)\n",
    "                y = np.random.randint(1.5 * self.n_samples, size=(self.n_samples, ))\n",
    "                y = y / np.linalg.norm(y)\n",
    "                vec1 = np.zeros((self.n_samples, ))\n",
    "                vec2 = np.zeros((self.n_samples, ))\n",
    "                vec1[0::2] = y[0::2]\n",
    "                vec2[1::2] = y[1::2]\n",
    "                X[:, 0] = vec1\n",
    "                X[:, 1] = vec2\n",
    "                if n_ort_features < 3:\n",
    "                    X = X[:, :2]\n",
    "                else:\n",
    "                    k = self.collinearity_coef\n",
    "                    X_ort = self.__nullspace(X[:, :2].T)\n",
    "                    perm_idx = np.random.randint(X_ort.shape[1], size=(n_ort_features - 2, ))\n",
    "                    X[:, 2:n_ort_features] = X_ort[:, perm_idx]\n",
    "                    col_norm = np.sqrt(np.sum(X[:, :n_ort_features]**2, axis=0))\n",
    "                    X[:, :n_ort_features] = X[:, :n_ort_features] / col_norm\n",
    "                    y = X[:, 0] + X[:, 1]\n",
    "                    n_col_features = self.n_features - n_ort_features\n",
    "                    print \"Number of collinear features = {0}\".format(n_col_features)\n",
    "                    n_col_feat_per_ort_feat = int(np.floor(n_col_features / n_ort_features))\n",
    "                    print \"Number of collinear features per orthogonal feature = {0}\".format(n_col_feat_per_ort_feat)\n",
    "                    first_idx = n_ort_features\n",
    "                    for i in xrange(n_ort_features):\n",
    "                        last_idx = first_idx + n_col_feat_per_ort_feat\n",
    "                        X_ort_current_feat = self.__nullspace(X[:, i])\n",
    "                        X_ort_current_feat = X_ort_current_feat[:, :n_col_feat_per_ort_feat]\n",
    "#                         X_ort_current_feat = X_ort_current_feat[:, np.random.randint(X_ort_current_feat.shape[1], \n",
    "#                                                                                      size=(n_col_feat_per_ort_feat,))]\n",
    "                        X[:, first_idx:last_idx] = (1 - k) * X_ort_current_feat + \\\n",
    "                                                    k * np.repeat(X[:, i].reshape(-1,1), \n",
    "                                                                  repeats=n_col_feat_per_ort_feat, axis=1)\n",
    "                        first_idx = last_idx\n",
    "                if self.is_normalized:\n",
    "                    col_norm = np.sqrt(np.sum(X**2, axis=0))\n",
    "                    X[:, 2:] = X[:, 2:] / col_norm\n",
    "                return X, y"
   ]
  },
  {
   "cell_type": "code",
   "execution_count": 3,
   "metadata": {
    "collapsed": false
   },
   "outputs": [
    {
     "data": {
      "text/plain": [
       "array([[2, 2],\n",
       "       [1, 1],\n",
       "       [3, 3]])"
      ]
     },
     "execution_count": 3,
     "metadata": {},
     "output_type": "execute_result"
    }
   ],
   "source": [
    "a = np.array([2,1,3]).reshape(-1, 1)\n",
    "np.repeat(a, repeats=2, axis=1)"
   ]
  },
  {
   "cell_type": "markdown",
   "metadata": {},
   "source": [
    "# Generate or load test data set"
   ]
  },
  {
   "cell_type": "code",
   "execution_count": 186,
   "metadata": {
    "collapsed": false
   },
   "outputs": [
    {
     "name": "stdout",
     "output_type": "stream",
     "text": [
      "Number of orthogonal features = 5\n",
      "Number of collinear features = 45\n",
      "Number of collinear features per orthogonal feature = 9\n"
     ]
    }
   ],
   "source": [
    "# Parameters\n",
    "n_features = 50\n",
    "n_samples = 100\n",
    "# Normalize target vector and generated features or not\n",
    "is_normalized = False\n",
    "collinearity_coef = 0.9\n",
    "is_real = False\n",
    "dg = DataGenerator(n_samples, n_features, collinearity_coef, is_normalized, is_real)\n",
    "rand_par = {\"type\": \"rand\"}\n",
    "inadeq_correl_par = {}\n",
    "redund_correl_par = {\"type\": \"redund_correl\"}\n",
    "adeq_correl_par = {\"type\": \"adeq_correl\", \"ratio_ort_features\": 0.1}\n",
    "X, y = dg.generate(adeq_correl_par)"
   ]
  },
  {
   "cell_type": "code",
   "execution_count": 188,
   "metadata": {
    "collapsed": false
   },
   "outputs": [
    {
     "data": {
      "text/plain": [
       "<matplotlib.colorbar.Colorbar at 0x7fe2b0ee3850>"
      ]
     },
     "execution_count": 188,
     "metadata": {},
     "output_type": "execute_result"
    },
    {
     "data": {
      "image/png": "[encoded data removed]",
      "text/plain": [
       "<matplotlib.figure.Figure at 0x7fe2b11dc650>"
      ]
     },
     "metadata": {},
     "output_type": "display_data"
    }
   ],
   "source": [
    "plt.imshow(X.T.dot(X))\n",
    "plt.colorbar()"
   ]
  },
  {
   "cell_type": "code",
   "execution_count": 189,
   "metadata": {
    "collapsed": true
   },
   "outputs": [],
   "source": [
    "# Split on train and test data sets\n",
    "X_train, X_test, y_train, y_test = sklms.train_test_split(X, y, test_size=0.3, random_state=42)"
   ]
  },
  {
   "cell_type": "code",
   "execution_count": 190,
   "metadata": {
    "collapsed": false
   },
   "outputs": [
    {
     "data": {
      "text/plain": [
       "<matplotlib.colorbar.Colorbar at 0x7fe2b0d48110>"
      ]
     },
     "execution_count": 190,
     "metadata": {},
     "output_type": "execute_result"
    },
    {
     "data": {
      "image/png": "[encoded data removed]",
      "text/plain": [
       "<matplotlib.figure.Figure at 0x7fe2b3c39950>"
      ]
     },
     "metadata": {},
     "output_type": "display_data"
    }
   ],
   "source": [
    "plt.imshow(X_train.T.dot(X_train))\n",
    "plt.colorbar()"
   ]
  },
  {
   "cell_type": "code",
   "execution_count": 191,
   "metadata": {
    "collapsed": false
   },
   "outputs": [],
   "source": [
    "Lasso = skllm.LassoCV(cv=5)"
   ]
  },
  {
   "cell_type": "code",
   "execution_count": 192,
   "metadata": {
    "collapsed": false
   },
   "outputs": [
    {
     "data": {
      "text/plain": [
       "LassoCV(alphas=None, copy_X=True, cv=5, eps=0.001, fit_intercept=True,\n",
       "    max_iter=1000, n_alphas=100, n_jobs=1, normalize=False, positive=False,\n",
       "    precompute='auto', random_state=None, selection='cyclic', tol=0.0001,\n",
       "    verbose=False)"
      ]
     },
     "execution_count": 192,
     "metadata": {},
     "output_type": "execute_result"
    }
   ],
   "source": [
    "Lasso.fit(X_train, y_train)"
   ]
  },
  {
   "cell_type": "code",
   "execution_count": 193,
   "metadata": {
    "collapsed": false
   },
   "outputs": [],
   "source": [
    "y_pred = Lasso.predict(X_test)"
   ]
  },
  {
   "cell_type": "code",
   "execution_count": 194,
   "metadata": {
    "collapsed": false
   },
   "outputs": [
    {
     "data": {
      "text/plain": [
       "0.0046972548891136981"
      ]
     },
     "execution_count": 194,
     "metadata": {},
     "output_type": "execute_result"
    }
   ],
   "source": [
    "np.linalg.norm(y_pred - y_test)**2"
   ]
  },
  {
   "cell_type": "code",
   "execution_count": 195,
   "metadata": {
    "collapsed": false
   },
   "outputs": [
    {
     "data": {
      "text/plain": [
       "array([  5.64656681e-01,   8.12480747e-01,  -0.00000000e+00,\n",
       "         0.00000000e+00,   0.00000000e+00,   0.00000000e+00,\n",
       "         1.67938696e-04,   2.49729693e-03,   4.76151013e-01,\n",
       "         1.49622727e-03,   0.00000000e+00,   0.00000000e+00,\n",
       "         0.00000000e+00,   8.57007195e-03,   0.00000000e+00,\n",
       "         0.00000000e+00,   0.00000000e+00,   2.06973744e-01,\n",
       "         0.00000000e+00,   0.00000000e+00,   0.00000000e+00,\n",
       "         0.00000000e+00,   0.00000000e+00,  -0.00000000e+00,\n",
       "        -0.00000000e+00,  -0.00000000e+00,  -0.00000000e+00,\n",
       "        -0.00000000e+00,  -0.00000000e+00,  -0.00000000e+00,\n",
       "        -0.00000000e+00,  -0.00000000e+00,   0.00000000e+00,\n",
       "         0.00000000e+00,   0.00000000e+00,   0.00000000e+00,\n",
       "         0.00000000e+00,   0.00000000e+00,   0.00000000e+00,\n",
       "         0.00000000e+00,   0.00000000e+00,   0.00000000e+00,\n",
       "         0.00000000e+00,   0.00000000e+00,   0.00000000e+00,\n",
       "         0.00000000e+00,   0.00000000e+00,   0.00000000e+00,\n",
       "         0.00000000e+00,   0.00000000e+00])"
      ]
     },
     "execution_count": 195,
     "metadata": {},
     "output_type": "execute_result"
    }
   ],
   "source": [
    "Lasso.coef_"
   ]
  },
  {
   "cell_type": "code",
   "execution_count": 196,
   "metadata": {
    "collapsed": false
   },
   "outputs": [
    {
     "data": {
      "text/plain": [
       "0.95237215290716337"
      ]
     },
     "execution_count": 196,
     "metadata": {},
     "output_type": "execute_result"
    }
   ],
   "source": [
    "Lasso.score(X_test, y_test)"
   ]
  }
 ],
 "metadata": {
  "anaconda-cloud": {},
  "kernelspec": {
   "display_name": "Python [conda env:cvxpy]",
   "language": "python",
   "name": "conda-env-cvxpy-py"
  },
  "language_info": {
   "codemirror_mode": {
    "name": "ipython",
    "version": 2
   },
   "file_extension": ".py",
   "mimetype": "text/x-python",
   "name": "python",
   "nbconvert_exporter": "python",
   "pygments_lexer": "ipython2",
   "version": "2.7.13"
  }
 },
 "nbformat": 4,
 "nbformat_minor": 1
}
